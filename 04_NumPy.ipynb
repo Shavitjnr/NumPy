{
  "nbformat": 4,
  "nbformat_minor": 0,
  "metadata": {
    "colab": {
      "provenance": [],
      "authorship_tag": "ABX9TyNGoS7f4u6Ys7IPko3y+z+Y",
      "include_colab_link": true
    },
    "kernelspec": {
      "name": "python3",
      "display_name": "Python 3"
    },
    "language_info": {
      "name": "python"
    }
  },
  "cells": [
    {
      "cell_type": "markdown",
      "metadata": {
        "id": "view-in-github",
        "colab_type": "text"
      },
      "source": [
        "<a href=\"https://colab.research.google.com/github/Shavitjnr/NumPy/blob/main/04_NumPy.ipynb\" target=\"_parent\"><img src=\"https://colab.research.google.com/assets/colab-badge.svg\" alt=\"Open In Colab\"/></a>"
      ]
    },
    {
      "cell_type": "code",
      "source": [],
      "metadata": {
        "id": "ADJKQp2-Vnn6"
      },
      "execution_count": null,
      "outputs": []
    },
    {
      "cell_type": "markdown",
      "source": [
        "# **Data Types in NumPy Arrays**"
      ],
      "metadata": {
        "id": "buB0chIBVmsZ"
      }
    },
    {
      "cell_type": "code",
      "source": [
        "import numpy as np\n",
        "var = np.array([1,2,3,4])\n",
        "print(\"Data Type: \",var.dtype)"
      ],
      "metadata": {
        "colab": {
          "base_uri": "https://localhost:8080/"
        },
        "id": "V0l3txhXVu5z",
        "outputId": "7db532a7-1cd2-4ebd-e13a-7fdb74b6b439"
      },
      "execution_count": 15,
      "outputs": [
        {
          "output_type": "stream",
          "name": "stdout",
          "text": [
            "Data Type:  int64\n"
          ]
        }
      ]
    },
    {
      "cell_type": "code",
      "source": [
        "import numpy as np\n",
        "var = np.array([1,2,3,4,12,13,14,15,16])\n",
        "print(\"Data Type: \",var.dtype)"
      ],
      "metadata": {
        "id": "8V4lV1fdXISh"
      },
      "execution_count": null,
      "outputs": []
    },
    {
      "cell_type": "code",
      "source": [
        "var = np.array([1.0,1.2,3.4])\n",
        "print(\"Data Type: \",var.dtype)"
      ],
      "metadata": {
        "colab": {
          "base_uri": "https://localhost:8080/"
        },
        "id": "1PoKTSzmXPRf",
        "outputId": "ce6a43a8-fc72-4302-ebb9-64e86eb44fe4"
      },
      "execution_count": 17,
      "outputs": [
        {
          "output_type": "stream",
          "name": "stdout",
          "text": [
            "Data Type:  float64\n"
          ]
        }
      ]
    },
    {
      "cell_type": "code",
      "source": [
        "var = np.array([\"A\",\"M\",\"I\",\"T\"])\n",
        "print(\"Data Type: \",var.dtype)"
      ],
      "metadata": {
        "colab": {
          "base_uri": "https://localhost:8080/"
        },
        "id": "dbEFwN8eXOmc",
        "outputId": "74bbe9fa-897d-4429-9fd7-9f2d24843923"
      },
      "execution_count": 18,
      "outputs": [
        {
          "output_type": "stream",
          "name": "stdout",
          "text": [
            "Data Type:  <U1\n"
          ]
        }
      ]
    },
    {
      "cell_type": "code",
      "source": [
        "var = np.array([\"A\",\"M\",\"I\",\"T\",1,2,3,4,5,6])\n",
        "print(\"Data Type: \",var.dtype)"
      ],
      "metadata": {
        "colab": {
          "base_uri": "https://localhost:8080/"
        },
        "id": "wlV86WzJXsEH",
        "outputId": "fec6b9e3-a4e3-4c89-e179-2fee2f57c7e5"
      },
      "execution_count": 19,
      "outputs": [
        {
          "output_type": "stream",
          "name": "stdout",
          "text": [
            "Data Type:  <U21\n"
          ]
        }
      ]
    },
    {
      "cell_type": "code",
      "source": [
        "X = np.array([1,2,3,4,5],dtype = np.int8)\n",
        "print(\"Data Type: \",X.dtype)\n",
        "print(X)"
      ],
      "metadata": {
        "colab": {
          "base_uri": "https://localhost:8080/"
        },
        "id": "6vrzQJ1iYDCg",
        "outputId": "bcc4dc44-060f-4c18-a9c6-c0d2c5cd2549"
      },
      "execution_count": 22,
      "outputs": [
        {
          "output_type": "stream",
          "name": "stdout",
          "text": [
            "Data Type:  int8\n",
            "[1 2 3 4 5]\n"
          ]
        }
      ]
    },
    {
      "cell_type": "code",
      "source": [
        "X1 = np.array([1,2,3,4,5],dtype = \"f\")\n",
        "print(\"Data Type: \",X1.dtype)\n",
        "print(X1)"
      ],
      "metadata": {
        "colab": {
          "base_uri": "https://localhost:8080/"
        },
        "id": "QXzmT_rnYiGk",
        "outputId": "795e9728-06e1-4acb-be70-57b51f093a5e"
      },
      "execution_count": 23,
      "outputs": [
        {
          "output_type": "stream",
          "name": "stdout",
          "text": [
            "Data Type:  float32\n",
            "[1. 2. 3. 4. 5.]\n"
          ]
        }
      ]
    },
    {
      "cell_type": "code",
      "source": [
        "X2 = np.array([1,2,3,4,5])\n",
        "new = np.float32(X2)\n",
        "print(\"Data Type: \",X2.dtype)\n",
        "print(\"Data Type: \",new.dtype)\n",
        "print(X2)\n",
        "print(new)"
      ],
      "metadata": {
        "colab": {
          "base_uri": "https://localhost:8080/"
        },
        "id": "2TEFcAZQY2e6",
        "outputId": "0f11bfe8-fd34-48fa-b8e2-1a9742814b1e"
      },
      "execution_count": 28,
      "outputs": [
        {
          "output_type": "stream",
          "name": "stdout",
          "text": [
            "Data Type:  int64\n",
            "Data Type:  float32\n",
            "[1 2 3 4 5]\n",
            "[1. 2. 3. 4. 5.]\n"
          ]
        }
      ]
    },
    {
      "cell_type": "code",
      "source": [
        "X2 = np.array([1,2,3,4,5])\n",
        "new = np.float32(X2)\n",
        "new1 = np.int_(new)\n",
        "print(\"Data Type: \",X2.dtype)\n",
        "print(\"Data Type: \",new.dtype)\n",
        "print(\"Data Type: \",new1.dtype)\n",
        "print(X2)\n",
        "print(new)\n",
        "print(new1)"
      ],
      "metadata": {
        "colab": {
          "base_uri": "https://localhost:8080/"
        },
        "id": "d4k1NO3gZ2qn",
        "outputId": "136a1179-632a-4141-d4f6-f778b2124e4a"
      },
      "execution_count": 30,
      "outputs": [
        {
          "output_type": "stream",
          "name": "stdout",
          "text": [
            "Data Type:  int64\n",
            "Data Type:  float32\n",
            "Data Type:  int64\n",
            "[1 2 3 4 5]\n",
            "[1. 2. 3. 4. 5.]\n",
            "[1 2 3 4 5]\n"
          ]
        }
      ]
    },
    {
      "cell_type": "code",
      "source": [
        "x3 = np.array([1,2,3,4,5])\n",
        "new_1 = x3.astype(float)\n",
        "print(x3)\n",
        "print(new_1)"
      ],
      "metadata": {
        "colab": {
          "base_uri": "https://localhost:8080/"
        },
        "id": "B6HY5BrtaS0e",
        "outputId": "d573970b-c98b-4d39-b7ac-26f8e3280019"
      },
      "execution_count": 31,
      "outputs": [
        {
          "output_type": "stream",
          "name": "stdout",
          "text": [
            "[1 2 3 4 5]\n",
            "[1. 2. 3. 4. 5.]\n"
          ]
        }
      ]
    }
  ]
}