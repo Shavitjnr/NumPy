{
  "nbformat": 4,
  "nbformat_minor": 0,
  "metadata": {
    "colab": {
      "provenance": [],
      "authorship_tag": "ABX9TyOkAQaLM0a1OWaDqVnU7pED",
      "include_colab_link": true
    },
    "kernelspec": {
      "name": "python3",
      "display_name": "Python 3"
    },
    "language_info": {
      "name": "python"
    }
  },
  "cells": [
    {
      "cell_type": "markdown",
      "metadata": {
        "id": "view-in-github",
        "colab_type": "text"
      },
      "source": [
        "<a href=\"https://colab.research.google.com/github/Shavitjnr/NumPy/blob/main/01_NumPy.ipynb\" target=\"_parent\"><img src=\"https://colab.research.google.com/assets/colab-badge.svg\" alt=\"Open In Colab\"/></a>"
      ]
    },
    {
      "cell_type": "markdown",
      "source": [
        "# **Creating NumPy Array using NumPy Function**"
      ],
      "metadata": {
        "id": "QfL9mpV3PyKB"
      }
    },
    {
      "cell_type": "markdown",
      "source": [
        "# Array"
      ],
      "metadata": {
        "id": "-u5l5iK0BSjJ"
      }
    },
    {
      "cell_type": "code",
      "source": [
        "import numpy as np\n",
        "x=[1,2,3,4]\n",
        "y= np.array([1,2,3,4,5])\n",
        "print(y)\n",
        "print(type(y))"
      ],
      "metadata": {
        "colab": {
          "base_uri": "https://localhost:8080/"
        },
        "id": "-WqXvicvAySv",
        "outputId": "d602aa3d-6323-4c4f-961f-999f440e56dd"
      },
      "execution_count": null,
      "outputs": [
        {
          "output_type": "stream",
          "name": "stdout",
          "text": [
            "[1 2 3 4 5]\n",
            "<class 'numpy.ndarray'>\n"
          ]
        }
      ]
    },
    {
      "cell_type": "code",
      "source": [
        "import numpy as np\n",
        "l = []\n",
        "for i in range(1,6):\n",
        "  int_1 = input(\"Enter your number: \")\n",
        "  l.append(int_1)\n",
        "\n",
        "print(np.array(l))"
      ],
      "metadata": {
        "colab": {
          "base_uri": "https://localhost:8080/"
        },
        "id": "yF2dm13fC3tI",
        "outputId": "1f59a078-8d3d-448c-f0e1-df1272ae35ce"
      },
      "execution_count": null,
      "outputs": [
        {
          "output_type": "stream",
          "name": "stdout",
          "text": [
            "Enter your number: 1\n",
            "Enter your number: 2\n",
            "Enter your number: 3\n",
            "Enter your number: 4\n",
            "Enter your number: 5\n",
            "['1' '2' '3' '4' '5']\n"
          ]
        }
      ]
    }
  ]
}