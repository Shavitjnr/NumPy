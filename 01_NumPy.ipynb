{
  "nbformat": 4,
  "nbformat_minor": 0,
  "metadata": {
    "colab": {
      "provenance": [],
      "authorship_tag": "ABX9TyN4WsZ1vB4iyVQYubO+OCFY",
      "include_colab_link": true
    },
    "kernelspec": {
      "name": "python3",
      "display_name": "Python 3"
    },
    "language_info": {
      "name": "python"
    }
  },
  "cells": [
    {
      "cell_type": "markdown",
      "metadata": {
        "id": "view-in-github",
        "colab_type": "text"
      },
      "source": [
        "<a href=\"https://colab.research.google.com/github/Shavitjnr/NumPy/blob/main/01_NumPy.ipynb\" target=\"_parent\"><img src=\"https://colab.research.google.com/assets/colab-badge.svg\" alt=\"Open In Colab\"/></a>"
      ]
    },
    {
      "cell_type": "markdown",
      "source": [
        "# **Create NumPy Array using NumPy Function**"
      ],
      "metadata": {
        "id": "wM68UK8zN9UD"
      }
    },
    {
      "cell_type": "markdown",
      "source": [
        "# Zeros"
      ],
      "metadata": {
        "id": "6rn4fk-oC3Zh"
      }
    },
    {
      "cell_type": "code",
      "source": [
        "import numpy as np\n",
        "ar_zero = np.zeros(4)\n",
        "ar_zero1 = np.zeros((3,4))\n",
        "print(ar_zero)\n",
        "print(ar_zero1)"
      ],
      "metadata": {
        "colab": {
          "base_uri": "https://localhost:8080/"
        },
        "id": "RVAaeVyyKBxg",
        "outputId": "6e245452-0f82-4436-c4f7-2c9c6e93010c"
      },
      "execution_count": 20,
      "outputs": [
        {
          "output_type": "stream",
          "name": "stdout",
          "text": [
            "[0. 0. 0. 0.]\n",
            "[[0. 0. 0. 0.]\n",
            " [0. 0. 0. 0.]\n",
            " [0. 0. 0. 0.]]\n"
          ]
        }
      ]
    },
    {
      "cell_type": "markdown",
      "source": [
        "# Ones"
      ],
      "metadata": {
        "id": "TSdIARntKdC0"
      }
    },
    {
      "cell_type": "code",
      "source": [
        "ar_one = np.ones(4)\n",
        "ar_one1 = np.ones((3,4))\n",
        "print(ar_one)\n",
        "print(ar_one1)"
      ],
      "metadata": {
        "colab": {
          "base_uri": "https://localhost:8080/"
        },
        "id": "tDf_68bOKemX",
        "outputId": "9f6f2ba4-4c9e-4c1e-eb3f-1356431b0d98"
      },
      "execution_count": 23,
      "outputs": [
        {
          "output_type": "stream",
          "name": "stdout",
          "text": [
            "[1. 1. 1. 1.]\n",
            "[[1. 1. 1. 1.]\n",
            " [1. 1. 1. 1.]\n",
            " [1. 1. 1. 1.]]\n"
          ]
        }
      ]
    },
    {
      "cell_type": "markdown",
      "source": [
        "# Empty"
      ],
      "metadata": {
        "id": "Lkf5O_tRKmJy"
      }
    },
    {
      "cell_type": "code",
      "source": [
        "ar_em = np.empty(4)\n",
        "ar_em1 = np.empty((3,4))\n",
        "print(ar_em)\n",
        "print(ar_em1)"
      ],
      "metadata": {
        "colab": {
          "base_uri": "https://localhost:8080/"
        },
        "id": "4ymiLc0zKqG9",
        "outputId": "86c02793-0c61-4566-8ab4-c1e0fa8641f0"
      },
      "execution_count": 26,
      "outputs": [
        {
          "output_type": "stream",
          "name": "stdout",
          "text": [
            "[1. 1. 1. 1.]\n",
            "[[1. 1. 1. 1.]\n",
            " [1. 1. 1. 1.]\n",
            " [1. 1. 1. 1.]]\n"
          ]
        }
      ]
    },
    {
      "cell_type": "markdown",
      "source": [
        "# Range"
      ],
      "metadata": {
        "id": "U5pZQRGJKytJ"
      }
    },
    {
      "cell_type": "code",
      "source": [
        "ar_rn = np.arange(4)\n",
        "ar_rn1 = np.arange(3,10,2)\n",
        "print(ar_rn)\n",
        "print(ar_rn1)"
      ],
      "metadata": {
        "colab": {
          "base_uri": "https://localhost:8080/"
        },
        "id": "lSOfGwzdK3zt",
        "outputId": "72a915d3-0fe9-4e9a-c9d7-36cd60d5b616"
      },
      "execution_count": 27,
      "outputs": [
        {
          "output_type": "stream",
          "name": "stdout",
          "text": [
            "[0 1 2 3]\n",
            "[3 5 7 9]\n"
          ]
        }
      ]
    },
    {
      "cell_type": "markdown",
      "source": [
        "# Diagonal"
      ],
      "metadata": {
        "id": "RDxUE2F0LCuX"
      }
    },
    {
      "cell_type": "code",
      "source": [
        "ar_dia = np.eye(3)\n",
        "print(ar_dia)"
      ],
      "metadata": {
        "colab": {
          "base_uri": "https://localhost:8080/"
        },
        "id": "-phq2MKqLGtn",
        "outputId": "404c31c3-9391-48a3-afd0-1e6bb96e990b"
      },
      "execution_count": 28,
      "outputs": [
        {
          "output_type": "stream",
          "name": "stdout",
          "text": [
            "[[1. 0. 0.]\n",
            " [0. 1. 0.]\n",
            " [0. 0. 1.]]\n"
          ]
        }
      ]
    },
    {
      "cell_type": "code",
      "source": [
        "ar_dia = np.eye(3,5)\n",
        "print(ar_dia)"
      ],
      "metadata": {
        "colab": {
          "base_uri": "https://localhost:8080/"
        },
        "id": "XT-6pGZCLO9h",
        "outputId": "285aaed2-6e5f-4b69-a659-ca95f535c7cc"
      },
      "execution_count": 29,
      "outputs": [
        {
          "output_type": "stream",
          "name": "stdout",
          "text": [
            "[[1. 0. 0. 0. 0.]\n",
            " [0. 1. 0. 0. 0.]\n",
            " [0. 0. 1. 0. 0.]]\n"
          ]
        }
      ]
    },
    {
      "cell_type": "markdown",
      "source": [
        "# Linespace"
      ],
      "metadata": {
        "id": "_JmEZ9XkLY4A"
      }
    },
    {
      "cell_type": "code",
      "source": [
        "ar_lin = np.linspace(1,20,num=5)\n",
        "print(ar_lin)"
      ],
      "metadata": {
        "colab": {
          "base_uri": "https://localhost:8080/"
        },
        "id": "Hg1QdlEJLcFV",
        "outputId": "a88bdcfe-e5a2-4622-dbfa-c0df9babf304"
      },
      "execution_count": 33,
      "outputs": [
        {
          "output_type": "stream",
          "name": "stdout",
          "text": [
            "[ 1.    5.75 10.5  15.25 20.  ]\n"
          ]
        }
      ]
    }
  ]
}