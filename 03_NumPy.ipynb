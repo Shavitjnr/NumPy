{
  "nbformat": 4,
  "nbformat_minor": 0,
  "metadata": {
    "colab": {
      "provenance": [],
      "authorship_tag": "ABX9TyOkRJtrl57iIsqvZDBU6ug4",
      "include_colab_link": true
    },
    "kernelspec": {
      "name": "python3",
      "display_name": "Python 3"
    },
    "language_info": {
      "name": "python"
    }
  },
  "cells": [
    {
      "cell_type": "markdown",
      "metadata": {
        "id": "view-in-github",
        "colab_type": "text"
      },
      "source": [
        "<a href=\"https://colab.research.google.com/github/Shavitjnr/NumPy/blob/main/03_NumPy.ipynb\" target=\"_parent\"><img src=\"https://colab.research.google.com/assets/colab-badge.svg\" alt=\"Open In Colab\"/></a>"
      ]
    },
    {
      "cell_type": "markdown",
      "source": [
        "# **Creating NumPy Arrays with Random Numbers**"
      ],
      "metadata": {
        "id": "obI-lnRQQ94J"
      }
    },
    {
      "cell_type": "markdown",
      "source": [
        "# Random\n"
      ],
      "metadata": {
        "id": "FMvWthHrRjY_"
      }
    },
    {
      "cell_type": "markdown",
      "source": [
        "# Rand()\n",
        "The function is used to generate a random values between 0 to 1."
      ],
      "metadata": {
        "id": "fS-ZeKuPRoVt"
      }
    },
    {
      "cell_type": "code",
      "source": [
        "import numpy as np\n",
        "var = np.random.rand(4)\n",
        "print(var)"
      ],
      "metadata": {
        "colab": {
          "base_uri": "https://localhost:8080/"
        },
        "id": "Su4Y2g6NRi7M",
        "outputId": "dceb9127-8f96-41af-e760-77cf17b621d7"
      },
      "execution_count": 2,
      "outputs": [
        {
          "output_type": "stream",
          "name": "stdout",
          "text": [
            "[0.87413174 0.02989739 0.94804829 0.18015925]\n"
          ]
        }
      ]
    },
    {
      "cell_type": "code",
      "source": [
        "var1 = np.random.rand(2,5)\n",
        "print(var1)"
      ],
      "metadata": {
        "colab": {
          "base_uri": "https://localhost:8080/"
        },
        "id": "lRNbGFNmSYtJ",
        "outputId": "8efa0e2a-edfd-4d71-fa95-f7b93b95bb4f"
      },
      "execution_count": 3,
      "outputs": [
        {
          "output_type": "stream",
          "name": "stdout",
          "text": [
            "[[0.9344887  0.5830211  0.5536286  0.3617098  0.42404881]\n",
            " [0.96490593 0.27183404 0.15854118 0.81621269 0.61798212]]\n"
          ]
        }
      ]
    },
    {
      "cell_type": "markdown",
      "source": [
        "# randn()\n",
        "The functionn is used to generate a random value close to zero. This may return positive or negative numbers as well."
      ],
      "metadata": {
        "id": "v5v8sx4CSv0L"
      }
    },
    {
      "cell_type": "code",
      "source": [
        "var2 = np.random.randn(5)\n",
        "print(var2)"
      ],
      "metadata": {
        "colab": {
          "base_uri": "https://localhost:8080/"
        },
        "id": "Y_YQ0jNFRq4v",
        "outputId": "c177645f-56ce-46d3-fc29-1d42e65f06f3"
      },
      "execution_count": 4,
      "outputs": [
        {
          "output_type": "stream",
          "name": "stdout",
          "text": [
            "[0.01843217 0.43142295 1.14935027 1.93573447 0.32247274]\n"
          ]
        }
      ]
    },
    {
      "cell_type": "markdown",
      "source": [
        "# randf()\n",
        "The functionn for doing random sampling in numpy. It returns an array of specified shape and fills it with randoom floats in the half open interval (0.0,1.0)"
      ],
      "metadata": {
        "id": "GEZD8JGYTA1X"
      }
    },
    {
      "cell_type": "code",
      "source": [
        "var3 = np.random.ranf(5)\n",
        "print(var3)"
      ],
      "metadata": {
        "colab": {
          "base_uri": "https://localhost:8080/"
        },
        "id": "m4OT0xDGTAge",
        "outputId": "4842c1c3-4318-452e-d1e9-d630474f662a"
      },
      "execution_count": 6,
      "outputs": [
        {
          "output_type": "stream",
          "name": "stdout",
          "text": [
            "[0.19886834 0.14154622 0.15125199 0.3906109  0.58015733]\n"
          ]
        }
      ]
    },
    {
      "cell_type": "markdown",
      "source": [
        "# randint()\n",
        "The function is used to generate a random number has a given range."
      ],
      "metadata": {
        "id": "1YAgsY30Tqd1"
      }
    },
    {
      "cell_type": "code",
      "source": [
        "var4 = np.random.randint(5,20,5)\n",
        "print(var4)"
      ],
      "metadata": {
        "colab": {
          "base_uri": "https://localhost:8080/"
        },
        "id": "Bp7U-ZPsTtVX",
        "outputId": "0cb9aca6-69b4-4680-c87a-610b22a09592"
      },
      "execution_count": 10,
      "outputs": [
        {
          "output_type": "stream",
          "name": "stdout",
          "text": [
            "[11 10  6 16  9]\n"
          ]
        }
      ]
    }
  ]
}